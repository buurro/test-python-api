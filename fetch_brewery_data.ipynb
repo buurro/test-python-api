{
 "cells": [
  {
   "cell_type": "code",
   "execution_count": 9,
   "metadata": {},
   "outputs": [],
   "source": [
    "import requests\n",
    "\n",
    "API_BASE_URL = \"https://api.openbrewerydb.org\""
   ]
  },
  {
   "cell_type": "code",
   "execution_count": 26,
   "metadata": {},
   "outputs": [],
   "source": [
    "search_query = \"cooper\""
   ]
  },
  {
   "cell_type": "code",
   "execution_count": 27,
   "metadata": {},
   "outputs": [
    {
     "name": "stdout",
     "output_type": "stream",
     "text": [
      "United States\n"
     ]
    }
   ],
   "source": [
    "api_call_result = requests.get(\n",
    "    f\"{API_BASE_URL}/breweries/search\", params={\"query\": search_query}\n",
    ")\n",
    "response_json = api_call_result.json()\n",
    "\n",
    "if response_json:\n",
    "    print(response_json[0][\"country\"])\n",
    "else:\n",
    "    print(\"no data found\")"
   ]
  }
 ],
 "metadata": {
  "kernelspec": {
   "display_name": "brewery-DN6R5gew-py3.10",
   "language": "python",
   "name": "python3"
  },
  "language_info": {
   "codemirror_mode": {
    "name": "ipython",
    "version": 3
   },
   "file_extension": ".py",
   "mimetype": "text/x-python",
   "name": "python",
   "nbconvert_exporter": "python",
   "pygments_lexer": "ipython3",
   "version": "3.10.9"
  },
  "orig_nbformat": 4,
  "vscode": {
   "interpreter": {
    "hash": "70620fc57ec42f487d665d58ec06aa5305aac665e133b5f6dd31f2a5666d1f85"
   }
  }
 },
 "nbformat": 4,
 "nbformat_minor": 2
}
